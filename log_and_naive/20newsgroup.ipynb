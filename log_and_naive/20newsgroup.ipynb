{
 "cells": [
  {
   "cell_type": "code",
   "execution_count": 1,
   "metadata": {},
   "outputs": [],
   "source": [
    "from sklearn.feature_extraction.text import CountVectorizer\n",
    "from collections import Counter\n",
    "import numpy as np\n",
    "import pandas as pd\n",
    "from sklearn.datasets import fetch_20newsgroups"
   ]
  },
  {
   "cell_type": "code",
   "execution_count": 2,
   "metadata": {},
   "outputs": [],
   "source": [
    "ds = fetch_20newsgroups()"
   ]
  },
  {
   "cell_type": "code",
   "execution_count": 3,
   "metadata": {},
   "outputs": [
    {
     "data": {
      "text/plain": [
       "20"
      ]
     },
     "execution_count": 3,
     "metadata": {},
     "output_type": "execute_result"
    }
   ],
   "source": [
    "len(ds.target_names)"
   ]
  },
  {
   "cell_type": "code",
   "execution_count": 4,
   "metadata": {},
   "outputs": [
    {
     "data": {
      "text/plain": [
       "(11314,)"
      ]
     },
     "execution_count": 4,
     "metadata": {},
     "output_type": "execute_result"
    }
   ],
   "source": [
    "ds.target.shape"
   ]
  },
  {
   "cell_type": "code",
   "execution_count": 5,
   "metadata": {},
   "outputs": [],
   "source": [
    "from sklearn import datasets\n",
    "x, y = datasets.make_classification(n_samples=1000, n_features=10, n_classes=2, random_state=123)"
   ]
  },
  {
   "cell_type": "code",
   "execution_count": 6,
   "metadata": {},
   "outputs": [],
   "source": [
    "import sklearn.datasets as skd\n",
    "\n",
    "categories = ds.target_names\n",
    "news_train = ds\n",
    "news_test = ds\n",
    "\n",
    "from sklearn.feature_extraction.text import TfidfVectorizer\n",
    "# from sklearn.feature_extraction.text import CountVectorizer\n",
    "# train the model\n",
    "v = TfidfVectorizer(max_features=500, lowercase=True, analyzer='word', stop_words= 'english',ngram_range=(1,3))\n",
    "# v = CountVectorizer(max_features=500, lowercase=True, ngram_range=(1,1),analyzer = \"word\")\n",
    "freq = v.fit_transform(news_train.data)\n"
   ]
  },
  {
   "cell_type": "code",
   "execution_count": 7,
   "metadata": {},
   "outputs": [
    {
     "data": {
      "text/plain": [
       "(500, 500)"
      ]
     },
     "execution_count": 7,
     "metadata": {},
     "output_type": "execute_result"
    }
   ],
   "source": [
    "# for i in freq.toarray():\n",
    "#     print(i)\n",
    "freq.shape\n",
    "freq = freq[:500]\n",
    "freq.shape\n",
    "\n"
   ]
  },
  {
   "cell_type": "code",
   "execution_count": 8,
   "metadata": {
    "scrolled": true
   },
   "outputs": [],
   "source": [
    "freq = freq.toarray()"
   ]
  },
  {
   "cell_type": "code",
   "execution_count": 9,
   "metadata": {},
   "outputs": [
    {
     "data": {
      "text/html": [
       "<div>\n",
       "<style scoped>\n",
       "    .dataframe tbody tr th:only-of-type {\n",
       "        vertical-align: middle;\n",
       "    }\n",
       "\n",
       "    .dataframe tbody tr th {\n",
       "        vertical-align: top;\n",
       "    }\n",
       "\n",
       "    .dataframe thead th {\n",
       "        text-align: right;\n",
       "    }\n",
       "</style>\n",
       "<table border=\"1\" class=\"dataframe\">\n",
       "  <thead>\n",
       "    <tr style=\"text-align: right;\">\n",
       "      <th></th>\n",
       "      <th>0</th>\n",
       "      <th>1</th>\n",
       "      <th>2</th>\n",
       "      <th>3</th>\n",
       "      <th>4</th>\n",
       "      <th>5</th>\n",
       "      <th>6</th>\n",
       "      <th>7</th>\n",
       "      <th>8</th>\n",
       "      <th>9</th>\n",
       "      <th>...</th>\n",
       "      <th>490</th>\n",
       "      <th>491</th>\n",
       "      <th>492</th>\n",
       "      <th>493</th>\n",
       "      <th>494</th>\n",
       "      <th>495</th>\n",
       "      <th>496</th>\n",
       "      <th>497</th>\n",
       "      <th>498</th>\n",
       "      <th>499</th>\n",
       "    </tr>\n",
       "  </thead>\n",
       "  <tbody>\n",
       "    <tr>\n",
       "      <th>count</th>\n",
       "      <td>500.000000</td>\n",
       "      <td>500.000000</td>\n",
       "      <td>500.000000</td>\n",
       "      <td>500.000000</td>\n",
       "      <td>500.000000</td>\n",
       "      <td>500.000000</td>\n",
       "      <td>500.000000</td>\n",
       "      <td>500.000000</td>\n",
       "      <td>500.000000</td>\n",
       "      <td>500.000000</td>\n",
       "      <td>...</td>\n",
       "      <td>500.000000</td>\n",
       "      <td>500.000000</td>\n",
       "      <td>500.000000</td>\n",
       "      <td>500.000000</td>\n",
       "      <td>500.000000</td>\n",
       "      <td>500.000000</td>\n",
       "      <td>500.000000</td>\n",
       "      <td>500.000000</td>\n",
       "      <td>500.000000</td>\n",
       "      <td>500.000000</td>\n",
       "    </tr>\n",
       "    <tr>\n",
       "      <th>mean</th>\n",
       "      <td>0.006676</td>\n",
       "      <td>0.008403</td>\n",
       "      <td>0.000423</td>\n",
       "      <td>0.000282</td>\n",
       "      <td>0.014273</td>\n",
       "      <td>0.006412</td>\n",
       "      <td>0.009032</td>\n",
       "      <td>0.012793</td>\n",
       "      <td>0.009597</td>\n",
       "      <td>0.015061</td>\n",
       "      <td>...</td>\n",
       "      <td>0.006825</td>\n",
       "      <td>0.008231</td>\n",
       "      <td>0.040257</td>\n",
       "      <td>0.010910</td>\n",
       "      <td>0.008455</td>\n",
       "      <td>0.010267</td>\n",
       "      <td>0.015843</td>\n",
       "      <td>0.012490</td>\n",
       "      <td>0.006726</td>\n",
       "      <td>0.007990</td>\n",
       "    </tr>\n",
       "    <tr>\n",
       "      <th>std</th>\n",
       "      <td>0.052983</td>\n",
       "      <td>0.057543</td>\n",
       "      <td>0.009139</td>\n",
       "      <td>0.006136</td>\n",
       "      <td>0.046136</td>\n",
       "      <td>0.035385</td>\n",
       "      <td>0.036834</td>\n",
       "      <td>0.047540</td>\n",
       "      <td>0.039433</td>\n",
       "      <td>0.050615</td>\n",
       "      <td>...</td>\n",
       "      <td>0.032285</td>\n",
       "      <td>0.045128</td>\n",
       "      <td>0.048746</td>\n",
       "      <td>0.036221</td>\n",
       "      <td>0.039146</td>\n",
       "      <td>0.036722</td>\n",
       "      <td>0.063365</td>\n",
       "      <td>0.043968</td>\n",
       "      <td>0.031642</td>\n",
       "      <td>0.049467</td>\n",
       "    </tr>\n",
       "    <tr>\n",
       "      <th>min</th>\n",
       "      <td>0.000000</td>\n",
       "      <td>0.000000</td>\n",
       "      <td>0.000000</td>\n",
       "      <td>0.000000</td>\n",
       "      <td>0.000000</td>\n",
       "      <td>0.000000</td>\n",
       "      <td>0.000000</td>\n",
       "      <td>0.000000</td>\n",
       "      <td>0.000000</td>\n",
       "      <td>0.000000</td>\n",
       "      <td>...</td>\n",
       "      <td>0.000000</td>\n",
       "      <td>0.000000</td>\n",
       "      <td>0.000000</td>\n",
       "      <td>0.000000</td>\n",
       "      <td>0.000000</td>\n",
       "      <td>0.000000</td>\n",
       "      <td>0.000000</td>\n",
       "      <td>0.000000</td>\n",
       "      <td>0.000000</td>\n",
       "      <td>0.000000</td>\n",
       "    </tr>\n",
       "    <tr>\n",
       "      <th>25%</th>\n",
       "      <td>0.000000</td>\n",
       "      <td>0.000000</td>\n",
       "      <td>0.000000</td>\n",
       "      <td>0.000000</td>\n",
       "      <td>0.000000</td>\n",
       "      <td>0.000000</td>\n",
       "      <td>0.000000</td>\n",
       "      <td>0.000000</td>\n",
       "      <td>0.000000</td>\n",
       "      <td>0.000000</td>\n",
       "      <td>...</td>\n",
       "      <td>0.000000</td>\n",
       "      <td>0.000000</td>\n",
       "      <td>0.000000</td>\n",
       "      <td>0.000000</td>\n",
       "      <td>0.000000</td>\n",
       "      <td>0.000000</td>\n",
       "      <td>0.000000</td>\n",
       "      <td>0.000000</td>\n",
       "      <td>0.000000</td>\n",
       "      <td>0.000000</td>\n",
       "    </tr>\n",
       "    <tr>\n",
       "      <th>50%</th>\n",
       "      <td>0.000000</td>\n",
       "      <td>0.000000</td>\n",
       "      <td>0.000000</td>\n",
       "      <td>0.000000</td>\n",
       "      <td>0.000000</td>\n",
       "      <td>0.000000</td>\n",
       "      <td>0.000000</td>\n",
       "      <td>0.000000</td>\n",
       "      <td>0.000000</td>\n",
       "      <td>0.000000</td>\n",
       "      <td>...</td>\n",
       "      <td>0.000000</td>\n",
       "      <td>0.000000</td>\n",
       "      <td>0.021224</td>\n",
       "      <td>0.000000</td>\n",
       "      <td>0.000000</td>\n",
       "      <td>0.000000</td>\n",
       "      <td>0.000000</td>\n",
       "      <td>0.000000</td>\n",
       "      <td>0.000000</td>\n",
       "      <td>0.000000</td>\n",
       "    </tr>\n",
       "    <tr>\n",
       "      <th>75%</th>\n",
       "      <td>0.000000</td>\n",
       "      <td>0.000000</td>\n",
       "      <td>0.000000</td>\n",
       "      <td>0.000000</td>\n",
       "      <td>0.000000</td>\n",
       "      <td>0.000000</td>\n",
       "      <td>0.000000</td>\n",
       "      <td>0.000000</td>\n",
       "      <td>0.000000</td>\n",
       "      <td>0.000000</td>\n",
       "      <td>...</td>\n",
       "      <td>0.000000</td>\n",
       "      <td>0.000000</td>\n",
       "      <td>0.070525</td>\n",
       "      <td>0.000000</td>\n",
       "      <td>0.000000</td>\n",
       "      <td>0.000000</td>\n",
       "      <td>0.000000</td>\n",
       "      <td>0.000000</td>\n",
       "      <td>0.000000</td>\n",
       "      <td>0.000000</td>\n",
       "    </tr>\n",
       "    <tr>\n",
       "      <th>max</th>\n",
       "      <td>0.915987</td>\n",
       "      <td>0.785118</td>\n",
       "      <td>0.204241</td>\n",
       "      <td>0.137157</td>\n",
       "      <td>0.427726</td>\n",
       "      <td>0.377366</td>\n",
       "      <td>0.252723</td>\n",
       "      <td>0.429370</td>\n",
       "      <td>0.313480</td>\n",
       "      <td>0.529636</td>\n",
       "      <td>...</td>\n",
       "      <td>0.300818</td>\n",
       "      <td>0.659192</td>\n",
       "      <td>0.253562</td>\n",
       "      <td>0.278643</td>\n",
       "      <td>0.371503</td>\n",
       "      <td>0.237227</td>\n",
       "      <td>0.605076</td>\n",
       "      <td>0.291482</td>\n",
       "      <td>0.292031</td>\n",
       "      <td>0.599788</td>\n",
       "    </tr>\n",
       "  </tbody>\n",
       "</table>\n",
       "<p>8 rows × 500 columns</p>\n",
       "</div>"
      ],
      "text/plain": [
       "              0           1           2           3           4           5    \\\n",
       "count  500.000000  500.000000  500.000000  500.000000  500.000000  500.000000   \n",
       "mean     0.006676    0.008403    0.000423    0.000282    0.014273    0.006412   \n",
       "std      0.052983    0.057543    0.009139    0.006136    0.046136    0.035385   \n",
       "min      0.000000    0.000000    0.000000    0.000000    0.000000    0.000000   \n",
       "25%      0.000000    0.000000    0.000000    0.000000    0.000000    0.000000   \n",
       "50%      0.000000    0.000000    0.000000    0.000000    0.000000    0.000000   \n",
       "75%      0.000000    0.000000    0.000000    0.000000    0.000000    0.000000   \n",
       "max      0.915987    0.785118    0.204241    0.137157    0.427726    0.377366   \n",
       "\n",
       "              6           7           8           9    ...         490  \\\n",
       "count  500.000000  500.000000  500.000000  500.000000  ...  500.000000   \n",
       "mean     0.009032    0.012793    0.009597    0.015061  ...    0.006825   \n",
       "std      0.036834    0.047540    0.039433    0.050615  ...    0.032285   \n",
       "min      0.000000    0.000000    0.000000    0.000000  ...    0.000000   \n",
       "25%      0.000000    0.000000    0.000000    0.000000  ...    0.000000   \n",
       "50%      0.000000    0.000000    0.000000    0.000000  ...    0.000000   \n",
       "75%      0.000000    0.000000    0.000000    0.000000  ...    0.000000   \n",
       "max      0.252723    0.429370    0.313480    0.529636  ...    0.300818   \n",
       "\n",
       "              491         492         493         494         495         496  \\\n",
       "count  500.000000  500.000000  500.000000  500.000000  500.000000  500.000000   \n",
       "mean     0.008231    0.040257    0.010910    0.008455    0.010267    0.015843   \n",
       "std      0.045128    0.048746    0.036221    0.039146    0.036722    0.063365   \n",
       "min      0.000000    0.000000    0.000000    0.000000    0.000000    0.000000   \n",
       "25%      0.000000    0.000000    0.000000    0.000000    0.000000    0.000000   \n",
       "50%      0.000000    0.021224    0.000000    0.000000    0.000000    0.000000   \n",
       "75%      0.000000    0.070525    0.000000    0.000000    0.000000    0.000000   \n",
       "max      0.659192    0.253562    0.278643    0.371503    0.237227    0.605076   \n",
       "\n",
       "              497         498         499  \n",
       "count  500.000000  500.000000  500.000000  \n",
       "mean     0.012490    0.006726    0.007990  \n",
       "std      0.043968    0.031642    0.049467  \n",
       "min      0.000000    0.000000    0.000000  \n",
       "25%      0.000000    0.000000    0.000000  \n",
       "50%      0.000000    0.000000    0.000000  \n",
       "75%      0.000000    0.000000    0.000000  \n",
       "max      0.291482    0.292031    0.599788  \n",
       "\n",
       "[8 rows x 500 columns]"
      ]
     },
     "execution_count": 9,
     "metadata": {},
     "output_type": "execute_result"
    }
   ],
   "source": [
    "df = pd.DataFrame(freq)\n",
    "df.describe()\n",
    "# df.info()"
   ]
  },
  {
   "cell_type": "code",
   "execution_count": 10,
   "metadata": {},
   "outputs": [
    {
     "data": {
      "text/plain": [
       "numpy.ndarray"
      ]
     },
     "execution_count": 10,
     "metadata": {},
     "output_type": "execute_result"
    }
   ],
   "source": [
    "type(freq)\n",
    "# type(x)"
   ]
  },
  {
   "cell_type": "code",
   "execution_count": 11,
   "metadata": {},
   "outputs": [
    {
     "data": {
      "text/plain": [
       "numpy.ndarray"
      ]
     },
     "execution_count": 11,
     "metadata": {},
     "output_type": "execute_result"
    }
   ],
   "source": [
    "type(ds.target)\n",
    "type(y)"
   ]
  },
  {
   "cell_type": "code",
   "execution_count": 12,
   "metadata": {},
   "outputs": [
    {
     "data": {
      "text/plain": [
       "array([[0.        , 0.        , 0.        , ..., 0.1271877 , 0.        ,\n",
       "        0.        ],\n",
       "       [0.        , 0.        , 0.        , ..., 0.        , 0.        ,\n",
       "        0.        ],\n",
       "       [0.        , 0.        , 0.        , ..., 0.        , 0.        ,\n",
       "        0.        ],\n",
       "       ...,\n",
       "       [0.        , 0.        , 0.        , ..., 0.        , 0.        ,\n",
       "        0.        ],\n",
       "       [0.1154478 , 0.        , 0.20424096, ..., 0.        , 0.        ,\n",
       "        0.        ],\n",
       "       [0.19982796, 0.        , 0.        , ..., 0.        , 0.        ,\n",
       "        0.        ]])"
      ]
     },
     "execution_count": 12,
     "metadata": {},
     "output_type": "execute_result"
    }
   ],
   "source": [
    "freq\n",
    "# x"
   ]
  },
  {
   "cell_type": "code",
   "execution_count": 13,
   "metadata": {},
   "outputs": [
    {
     "data": {
      "text/plain": [
       "(500, 500)"
      ]
     },
     "execution_count": 13,
     "metadata": {},
     "output_type": "execute_result"
    }
   ],
   "source": [
    "\n",
    "freq.shape"
   ]
  },
  {
   "cell_type": "code",
   "execution_count": 14,
   "metadata": {},
   "outputs": [
    {
     "data": {
      "text/plain": [
       "numpy.ndarray"
      ]
     },
     "execution_count": 14,
     "metadata": {},
     "output_type": "execute_result"
    }
   ],
   "source": [
    "type(freq)"
   ]
  },
  {
   "cell_type": "code",
   "execution_count": 15,
   "metadata": {},
   "outputs": [],
   "source": [
    "# class LogisticRegression(): \n",
    "#     def __init__( self, lr=0.001, n_iters=1000):         \n",
    "#         self.lr = lr       \n",
    "#         self.n_iters = n_iters\n",
    "#         self.weights = None\n",
    "#         self.bias = None\n",
    "        \n",
    "#     def fit( self, x, y):         \n",
    "#         n_samples, n_features = x.shape         \n",
    "#         self.weights = np.zeros(n_features)         \n",
    "#         self.bias = 0        \n",
    "                            \n",
    "#         for i in range( self.n_iters):   \n",
    "#             linear_model = np.dot(x, self.weights) + self.bias\n",
    "#             y_predicted = self._sigmoid(linear_model)\n",
    "            \n",
    "#             dw = (1 / n_samples) * np.dot(x.T, (y_predicted - y))\n",
    "#             db = (1 / n_samples) * np.sum(y_predicted - y)\n",
    "            \n",
    "#             self.weights -= self.lr * dw\n",
    "#             self.bias -= self.lr * db\n",
    "\n",
    "#     def _sigmoid(self, x):\n",
    "#         return 1 / (1+np.exp(-x))\n",
    "        \n",
    "            \n",
    "#     def predict( self, x):  \n",
    "#         linear_model = np.dot(x, self.weights) + self.bias\n",
    "#         y_predicted = self._sigmoid(linear_model)\n",
    "#         y_predicted_cls = [1 if i>0.5 else 0 for i in y_predicted]\n",
    "#         y_predicted_cls = (y_predicted/0.05)\n",
    "#         y_predicted_cls = [int(i) for i in y_predicted_cls]\n",
    "#         return y_predicted_cls\n",
    "# #         return y_predicted\n",
    "        \n",
    "# def accuracy(y_true, y_pred):\n",
    "#     return np.sum(y_true==y_pred)/len(y_true)"
   ]
  },
  {
   "cell_type": "code",
   "execution_count": 16,
   "metadata": {},
   "outputs": [],
   "source": [
    "class LogisticRegression(): \n",
    "    def __init__( self, lr=0.001, n_iters=1000):         \n",
    "        self.lr = lr       \n",
    "        self.n_iters = n_iters\n",
    "        self.weights = None\n",
    "        self.bias = None\n",
    "        \n",
    "    def fit( self, x, y):         \n",
    "        n_samples, n_features = x.shape         \n",
    "        self.weights = np.zeros(n_features)         \n",
    "        self.bias = 0        \n",
    "                            \n",
    "        for i in range( self.n_iters):   \n",
    "            linear_model = np.dot(x, self.weights) + self.bias\n",
    "            y_predicted = self._sigmoid(linear_model)\n",
    "            \n",
    "            dw = (1 / n_samples) * np.dot(x.T, (y_predicted - y))\n",
    "            db = (1 / n_samples) * np.sum(y_predicted - y)\n",
    "            \n",
    "            self.weights -= self.lr * dw\n",
    "            self.bias -= self.lr * db\n",
    "\n",
    "    def _sigmoid(self, x):\n",
    "        return 1 / (1+np.exp(-x))\n",
    "        \n",
    "            \n",
    "    def predict( self, x):  \n",
    "        linear_model = np.dot(x, self.weights) + self.bias\n",
    "        y_predicted = self._sigmoid(linear_model)\n",
    "        y_predicted_cls = [1 if i>0.5 else 0 for i in y_predicted]\n",
    "        y_predicted_cls = (y_predicted/0.05)\n",
    "        y_predicted_cls = [int(i) for i in y_predicted_cls]\n",
    "        return y_predicted_cls\n",
    "#         return y_predicted\n",
    "        \n",
    "def accuracy(y_true, y_pred):\n",
    "    return np.sum(y_true==y_pred)/len(y_true)"
   ]
  },
  {
   "cell_type": "code",
   "execution_count": 17,
   "metadata": {},
   "outputs": [],
   "source": [
    "clf = LogisticRegression(lr = 0.01, n_iters = 400)"
   ]
  },
  {
   "cell_type": "code",
   "execution_count": 18,
   "metadata": {},
   "outputs": [],
   "source": [
    "# from sklearn.linear_model import LogisticRegression\n",
    "# clf = LogisticRegression()\n",
    "# clf.fit(freq, ds.target[:1000])\n",
    "# clf.score(freq, ds.target[:1000])"
   ]
  },
  {
   "cell_type": "code",
   "execution_count": 20,
   "metadata": {},
   "outputs": [],
   "source": [
    "clf.fit(freq, ds.target[:500])\n",
    "# clf.fit(x, y)"
   ]
  },
  {
   "cell_type": "code",
   "execution_count": 21,
   "metadata": {
    "scrolled": false
   },
   "outputs": [],
   "source": [
    "pre = clf.predict(freq)\n",
    "# pre = clf.predict(x)"
   ]
  },
  {
   "cell_type": "code",
   "execution_count": 23,
   "metadata": {},
   "outputs": [
    {
     "data": {
      "text/plain": [
       "0.02"
      ]
     },
     "execution_count": 23,
     "metadata": {},
     "output_type": "execute_result"
    }
   ],
   "source": [
    "accuracy(ds.target[:500], pre)\n",
    "# accuracy(y, pre)"
   ]
  },
  {
   "cell_type": "code",
   "execution_count": 24,
   "metadata": {},
   "outputs": [],
   "source": [
    "# class NaiveBayes:\n",
    "#     def fit(self, x, y):\n",
    "#         n_samples, n_features = x.shape\n",
    "#         self._classes = np.unique(y)\n",
    "#         n_classes = len(self._classes)\n",
    "        \n",
    "#         #init mean, var, priors\n",
    "#         self._mean = np.zeros((n_classes, n_features), dtype=np.float64)        \n",
    "#         self._var = np.zeros((n_classes, n_features), dtype=np.float64)\n",
    "#         self._priors = np.zeros(n_classes, dtype=np.float64)\n",
    "        \n",
    "#         for c in self._classes:\n",
    "#             x_c = x[c==y]\n",
    "# #             x_c= np.delete(x_c,np.where(~x_c.any(axis=0))[0], axis=1)\n",
    "# #             self._mean[c,:] = x_c.mean(axis=0)\n",
    "#             self._mean[c,:] = np.mean(x_c, axis=0)\n",
    "# #             self._var[c,:] = x_c.var(axis=0)\n",
    "#             self._var[c,:] = np.var(x_c,axis=0)\n",
    "\n",
    "\n",
    "#             self._priors[c] = x_c.shape[0] / float(n_samples)\n",
    "            \n",
    "# #         print(self._priors[1], self._priors[self._classes[1]])\n",
    "    \n",
    "#     def predict(self, x):\n",
    "#         y_pred = [self._predict(i) for i in x]\n",
    "#         return y_pred\n",
    "        \n",
    "#     def _predict(self, x):\n",
    "#         posteriors = []\n",
    "#         for idx, c in enumerate(self._classes):\n",
    "#             prior = np.log(self._priors[idx])\n",
    "#             class_conditional = np.sum(np.log(self._pdf(idx, x)))\n",
    "            \n",
    "#             posterior = prior + class_conditional\n",
    "#             posteriors.append(posterior)\n",
    "#         return self._classes[np.argmax(posteriors)]\n",
    "            \n",
    "#     def _pdf(self, class_idx, x):\n",
    "#         mean = self._mean[class_idx]\n",
    "#         var = self._var[class_idx]\n",
    "# #         numerator = np.exp(-(x-mean)**2/(2*var))\n",
    "#         numerator = []\n",
    "#         denominator = []\n",
    "#         for i in range(len(x)):\n",
    "#             if mean[i]!=0 and var[i]!=0:\n",
    "#                 numerator.append(np.exp(-(x[i]-mean[i])**2/(2*var[i])))\n",
    "#                 denominator.append(np.sqrt(2*np.pi * var[i]))\n",
    "\n",
    "#         numerator = np.array(numerator)\n",
    "#         denominator = np.array(denominator)\n",
    "#         p = numerator/denominator\n",
    "        \n",
    "#         return p[p!=0]\n",
    "# def accuracy(y_true, y_pred):\n",
    "#     return np.sum(y_true==y_pred)/len(y_true)"
   ]
  },
  {
   "cell_type": "code",
   "execution_count": 61,
   "metadata": {},
   "outputs": [],
   "source": [
    "class NaiveBayes:\n",
    "    def fit(self, x, y):\n",
    "        n_samples, n_features = x.shape\n",
    "        self._classes = np.unique(y)\n",
    "        n_classes = len(self._classes)\n",
    "        self.X = x\n",
    "        self.Y = y\n",
    "        #init mean, var, priors\n",
    "#         self._mean = np.zeros((n_classes, n_features), dtype=np.float64)        \n",
    "#         self._var = np.zeros((n_classes, n_features), dtype=np.float64)\n",
    "        self._priors = np.zeros(n_classes, dtype=np.float64)\n",
    "        \n",
    "        for c in self._classes:\n",
    "            x_c = x[c==y]\n",
    "#             x_c= np.delete(x_c,np.where(~x_c.any(axis=0))[0], axis=1)\n",
    "#             self._mean[c,:] = x_c.mean(axis=0)\n",
    "#             self._mean[c,:] = np.mean(x_c, axis=0)\n",
    "#             self._var[c,:] = x_c.var(axis=0)\n",
    "#             self._var[c,:] = np.var(x_c,axis=0)\n",
    "\n",
    "\n",
    "            self._priors[c] = x_c.shape[0] / float(n_samples)\n",
    "            \n",
    "#         print(self._priors[1], self._priors[self._classes[1]])\n",
    "    \n",
    "    def predict(self, x):\n",
    "        y_pred = [self._predict(i) for i in x]\n",
    "        return y_pred\n",
    "        \n",
    "    def _predict(self, x):\n",
    "        posteriors = []\n",
    "        for c in self._classes:\n",
    "            x_c = self.X[c==self.Y]\n",
    "            like=1\n",
    "            for f in range(x_c.shape[1]):\n",
    "                count=0\n",
    "                for r in range(x_c.shape[0]):\n",
    "                    if x_c[r][f]==x[f]:\n",
    "                        count+=1\n",
    "#                 if count!=0:\n",
    "                like+=np.log(count+0.01/x_c.shape[0]+0.01)\n",
    "            posteriors.append(like+np.log(self._priors[c]))\n",
    "#             print(len(posteriors))\n",
    "        return self._classes[np.argmax(posteriors)]\n",
    "            \n",
    "def accuracy(y_true, y_pred):\n",
    "    return np.sum(y_true==y_pred)/len(y_true)"
   ]
  },
  {
   "cell_type": "code",
   "execution_count": 62,
   "metadata": {},
   "outputs": [],
   "source": [
    "clf = NaiveBayes()\n"
   ]
  },
  {
   "cell_type": "code",
   "execution_count": 63,
   "metadata": {},
   "outputs": [],
   "source": [
    "clf.fit(freq, ds.target[:500])\n",
    "# clf.fit(x, y)"
   ]
  },
  {
   "cell_type": "code",
   "execution_count": 64,
   "metadata": {
    "scrolled": false
   },
   "outputs": [],
   "source": [
    "pre = clf.predict(freq[:50])\n",
    "# pre = clf.predict(x)\n"
   ]
  },
  {
   "cell_type": "code",
   "execution_count": 65,
   "metadata": {},
   "outputs": [
    {
     "data": {
      "text/plain": [
       "[4,\n",
       " 4,\n",
       " 4,\n",
       " 1,\n",
       " 14,\n",
       " 4,\n",
       " 4,\n",
       " 3,\n",
       " 2,\n",
       " 4,\n",
       " 8,\n",
       " 4,\n",
       " 4,\n",
       " 14,\n",
       " 6,\n",
       " 4,\n",
       " 1,\n",
       " 7,\n",
       " 12,\n",
       " 4,\n",
       " 4,\n",
       " 4,\n",
       " 6,\n",
       " 2,\n",
       " 4,\n",
       " 4,\n",
       " 12,\n",
       " 9,\n",
       " 15,\n",
       " 4,\n",
       " 6,\n",
       " 13,\n",
       " 12,\n",
       " 17,\n",
       " 4,\n",
       " 4,\n",
       " 8,\n",
       " 11,\n",
       " 8,\n",
       " 16,\n",
       " 9,\n",
       " 4,\n",
       " 4,\n",
       " 9,\n",
       " 9,\n",
       " 4,\n",
       " 4,\n",
       " 8,\n",
       " 12,\n",
       " 4]"
      ]
     },
     "execution_count": 65,
     "metadata": {},
     "output_type": "execute_result"
    }
   ],
   "source": [
    "pre\n",
    "# ds.target[:50]\n"
   ]
  },
  {
   "cell_type": "code",
   "execution_count": 66,
   "metadata": {},
   "outputs": [
    {
     "data": {
      "text/plain": [
       "array([0, 0, 1, 1, 1, 0, 0, 0, 1, 0, 1, 0, 0, 0, 1, 1, 0, 0, 1, 1, 0, 0,\n",
       "       0, 0, 1, 1, 0, 1, 1, 0, 0, 1, 0, 1, 0, 1, 1, 1, 1, 1, 0, 1, 0, 0,\n",
       "       1, 0, 0, 1, 1, 1, 0, 1, 0, 1, 1, 0, 1, 0, 1, 1, 1, 1, 1, 1, 0, 0,\n",
       "       0, 1, 1, 1, 1, 1, 0, 0, 0, 1, 1, 1, 0, 0, 0, 0, 1, 1, 1, 1, 0, 0,\n",
       "       1, 0, 0, 0, 0, 1, 0, 0, 1, 1, 1, 1, 1, 0, 0, 1, 1, 1, 1, 1, 1, 1,\n",
       "       1, 0, 1, 1, 0, 1, 1, 0, 1, 0, 0, 1, 0, 0, 1, 0, 0, 0, 1, 0, 1, 0,\n",
       "       0, 0, 1, 0, 0, 1, 0, 1, 0, 1, 0, 0, 1, 0, 0, 0, 1, 1, 1, 1, 0, 0,\n",
       "       1, 0, 1, 1, 0, 1, 0, 1, 0, 1, 1, 1, 1, 0, 1, 0, 1, 0, 1, 0, 1, 0,\n",
       "       1, 1, 0, 0, 0, 1, 1, 0, 1, 1, 1, 1, 0, 1, 0, 0, 0, 1, 0, 1, 1, 0,\n",
       "       0, 1, 1, 0, 0, 1, 1, 1, 1, 1, 1, 1, 1, 1, 0, 1, 1, 1, 1, 0, 0, 1,\n",
       "       0, 0, 0, 0, 0, 1, 0, 1, 1, 1, 0, 0, 1, 1, 0, 1, 1, 1, 1, 0, 1, 1,\n",
       "       0, 1, 1, 1, 0, 1, 0, 0, 1, 1, 0, 1, 0, 0, 0, 1, 1, 0, 0, 1, 1, 0,\n",
       "       0, 1, 0, 1, 1, 0, 1, 0, 0, 1, 0, 1, 1, 0, 1, 0, 0, 1, 1, 1, 1, 1,\n",
       "       1, 1, 1, 0, 1, 1, 0, 1, 1, 0, 1, 1, 0, 1, 1, 1, 1, 1, 1, 0, 1, 0,\n",
       "       0, 0, 1, 1, 1, 0, 0, 0, 0, 0, 1, 1, 0, 0, 0, 1, 0, 1, 1, 1, 0, 0,\n",
       "       0, 1, 0, 0, 0, 0, 1, 0, 1, 0, 1, 1, 0, 1, 0, 0, 0, 0, 0, 0, 1, 0,\n",
       "       1, 0, 0, 0, 0, 0, 0, 0, 1, 1, 1, 0, 0, 1, 0, 1, 0, 0, 1, 0, 1, 0,\n",
       "       0, 0, 1, 1, 0, 1, 1, 0, 0, 1, 1, 0, 0, 0, 0, 1, 1, 1, 1, 0, 1, 1,\n",
       "       0, 0, 1, 1, 0, 1, 0, 1, 0, 0, 1, 1, 1, 1, 1, 0, 1, 0, 1, 1, 0, 0,\n",
       "       1, 1, 1, 1, 0, 1, 0, 1, 0, 0, 1, 0, 1, 0, 1, 0, 0, 0, 0, 1, 1, 1,\n",
       "       1, 1, 1, 0, 1, 0, 1, 1, 1, 1, 0, 1, 0, 0, 0, 1, 1, 0, 0, 1, 1, 1,\n",
       "       0, 0, 1, 1, 1, 1, 0, 0, 1, 0, 0, 0, 1, 1, 0, 1, 1, 0, 0, 0, 0, 0,\n",
       "       1, 1, 1, 0, 0, 1, 1, 0, 0, 0, 0, 0, 1, 1, 1, 0, 1, 1, 1, 1, 1, 1,\n",
       "       0, 1, 0, 1, 1, 1, 1, 1, 1, 0, 0, 1, 1, 1, 1, 1, 0, 1, 1, 1, 1, 1,\n",
       "       1, 0, 1, 0, 0, 0, 0, 0, 1, 1, 1, 0, 1, 0, 1, 1, 1, 1, 0, 1, 1, 0,\n",
       "       0, 0, 0, 0, 0, 1, 0, 1, 1, 0, 1, 1, 0, 0, 1, 0, 1, 0, 0, 1, 1, 0,\n",
       "       1, 1, 0, 0, 0, 0, 0, 0, 0, 0, 1, 0, 0, 1, 1, 0, 0, 0, 0, 0, 1, 0,\n",
       "       0, 1, 0, 1, 1, 1, 0, 0, 1, 0, 1, 1, 0, 0, 0, 1, 0, 0, 1, 0, 0, 1,\n",
       "       1, 0, 0, 1, 1, 1, 0, 0, 1, 1, 1, 0, 0, 0, 0, 1, 1, 1, 1, 0, 1, 0,\n",
       "       0, 0, 1, 0, 0, 0, 0, 1, 0, 1, 0, 0, 1, 1, 0, 1, 1, 1, 1, 0, 1, 1,\n",
       "       1, 1, 0, 1, 0, 0, 1, 0, 1, 0, 0, 0, 0, 0, 1, 0, 1, 1, 1, 1, 1, 0,\n",
       "       0, 0, 1, 0, 1, 0, 0, 0, 0, 0, 0, 0, 0, 1, 1, 0, 0, 1, 0, 0, 0, 1,\n",
       "       1, 0, 0, 0, 1, 0, 0, 0, 1, 1, 0, 0, 0, 1, 0, 0, 0, 0, 1, 1, 1, 0,\n",
       "       0, 1, 1, 0, 0, 0, 1, 0, 0, 0, 1, 1, 0, 1, 1, 0, 1, 0, 1, 0, 1, 0,\n",
       "       0, 0, 1, 1, 1, 1, 1, 0, 1, 0, 0, 1, 0, 1, 0, 1, 0, 0, 1, 0, 1, 1,\n",
       "       1, 0, 0, 1, 1, 1, 0, 0, 0, 0, 0, 0, 0, 1, 1, 0, 0, 0, 0, 0, 0, 1,\n",
       "       1, 1, 0, 0, 0, 0, 1, 0, 0, 1, 0, 0, 0, 1, 0, 1, 0, 1, 0, 0, 0, 0,\n",
       "       0, 1, 0, 0, 1, 0, 1, 0, 1, 1, 1, 1, 0, 1, 1, 1, 1, 1, 0, 0, 1, 0,\n",
       "       0, 1, 1, 0, 1, 0, 1, 0, 0, 0, 1, 0, 1, 0, 1, 0, 0, 1, 0, 1, 1, 0,\n",
       "       0, 1, 1, 1, 0, 0, 0, 1, 1, 0, 1, 0, 1, 0, 1, 0, 0, 0, 0, 0, 0, 1,\n",
       "       0, 0, 1, 1, 0, 1, 0, 1, 0, 1, 1, 1, 0, 1, 0, 0, 0, 0, 0, 1, 1, 1,\n",
       "       0, 0, 0, 0, 1, 0, 0, 1, 0, 0, 0, 1, 0, 1, 0, 0, 0, 1, 1, 0, 0, 1,\n",
       "       1, 1, 0, 1, 0, 0, 0, 1, 1, 0, 1, 1, 1, 0, 1, 0, 1, 0, 0, 0, 1, 1,\n",
       "       0, 1, 1, 0, 1, 1, 0, 1, 0, 0, 0, 1, 0, 0, 1, 0, 1, 1, 0, 0, 1, 0,\n",
       "       0, 1, 1, 1, 1, 0, 0, 0, 0, 1, 1, 1, 1, 1, 1, 1, 0, 0, 0, 1, 1, 1,\n",
       "       1, 0, 1, 0, 0, 0, 0, 0, 1, 1])"
      ]
     },
     "execution_count": 66,
     "metadata": {},
     "output_type": "execute_result"
    }
   ],
   "source": [
    "y"
   ]
  },
  {
   "cell_type": "code",
   "execution_count": 72,
   "metadata": {},
   "outputs": [
    {
     "data": {
      "text/plain": [
       "0.72"
      ]
     },
     "execution_count": 72,
     "metadata": {},
     "output_type": "execute_result"
    }
   ],
   "source": [
    "accuracy(pre, ds.target[:50])\n",
    "# accuracy(pre, y)"
   ]
  },
  {
   "cell_type": "code",
   "execution_count": 73,
   "metadata": {},
   "outputs": [
    {
     "data": {
      "text/plain": [
       "0.86"
      ]
     },
     "execution_count": 73,
     "metadata": {},
     "output_type": "execute_result"
    }
   ],
   "source": [
    "from sklearn.naive_bayes import MultinomialNB\n",
    "clf = MultinomialNB()\n",
    "clf.fit(freq,ds.target[:500])\n",
    "clf.score(freq[:50], ds.target[:50])"
   ]
  },
  {
   "cell_type": "code",
   "execution_count": null,
   "metadata": {},
   "outputs": [],
   "source": []
  }
 ],
 "metadata": {
  "kernelspec": {
   "display_name": "Python 3",
   "language": "python",
   "name": "python3"
  },
  "language_info": {
   "codemirror_mode": {
    "name": "ipython",
    "version": 3
   },
   "file_extension": ".py",
   "mimetype": "text/x-python",
   "name": "python",
   "nbconvert_exporter": "python",
   "pygments_lexer": "ipython3",
   "version": "3.8.5"
  }
 },
 "nbformat": 4,
 "nbformat_minor": 4
}
